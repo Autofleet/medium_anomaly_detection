{
 "cells": [
  {
   "cell_type": "code",
   "execution_count": 1,
   "id": "327356a0",
   "metadata": {
    "_cell_guid": "b1076dfc-b9ad-4769-8c92-a6c4dae69d19",
    "_uuid": "8f2839f25d086af736a60e9eeb907d3b93b6e0e5",
    "execution": {
     "iopub.execute_input": "2022-11-28T21:50:20.223298Z",
     "iopub.status.busy": "2022-11-28T21:50:20.222319Z",
     "iopub.status.idle": "2022-11-28T21:50:21.587327Z",
     "shell.execute_reply": "2022-11-28T21:50:21.586105Z"
    },
    "papermill": {
     "duration": 1.374734,
     "end_time": "2022-11-28T21:50:21.590437",
     "exception": false,
     "start_time": "2022-11-28T21:50:20.215703",
     "status": "completed"
    },
    "tags": []
   },
   "outputs": [],
   "source": [
    "import numpy as np \n",
    "import pandas as pd\n",
    "import matplotlib.pyplot as plt\n",
    "\n",
    "from joblib import Parallel, delayed\n",
    "from sklearn.datasets import make_regression\n",
    "from sklearn.preprocessing import OneHotEncoder\n",
    "from sklearn.linear_model import LogisticRegression\n",
    "from sklearn.isotonic import IsotonicRegression\n",
    "from sklearn.multioutput import ClassifierChain\n",
    "from sklearn.model_selection import train_test_split\n",
    "from sklearn.metrics import brier_score_loss, log_loss"
   ]
  },
  {
   "cell_type": "code",
   "execution_count": 2,
   "id": "c3e90afd",
   "metadata": {
    "execution": {
     "iopub.execute_input": "2022-11-28T21:50:21.599263Z",
     "iopub.status.busy": "2022-11-28T21:50:21.598855Z",
     "iopub.status.idle": "2022-11-28T21:50:21.617900Z",
     "shell.execute_reply": "2022-11-28T21:50:21.616297Z"
    },
    "papermill": {
     "duration": 0.028053,
     "end_time": "2022-11-28T21:50:21.622304",
     "exception": false,
     "start_time": "2022-11-28T21:50:21.594251",
     "status": "completed"
    },
    "tags": []
   },
   "outputs": [],
   "source": [
    "### SIMULATE SURVIVAL DATA ###\n",
    "\n",
    "def sim_event_times(n_samples=3_000, n_features=20, random_state=0):\n",
    "\n",
    "    X, y = make_regression(\n",
    "        n_samples=n_samples, n_features=n_features, \n",
    "        n_informative=int(n_features*.4), random_state=random_state,\n",
    "    )\n",
    "    y = np.searchsorted(np.quantile(y, np.linspace(0,1, 10)), y)\n",
    "        \n",
    "    np.random.seed(random_state)\n",
    "    betas = 365 * np.exp(-0.6 * y) / np.log(1.1)\n",
    "    y_time = np.random.exponential(betas)\n",
    "    \n",
    "    return X, y_time\n",
    "\n",
    "\n",
    "X, y_time = sim_event_times(n_samples=3_000, n_features=20)"
   ]
  },
  {
   "cell_type": "code",
   "execution_count": 3,
   "id": "8fd74927",
   "metadata": {
    "execution": {
     "iopub.execute_input": "2022-11-28T21:50:21.641286Z",
     "iopub.status.busy": "2022-11-28T21:50:21.640549Z",
     "iopub.status.idle": "2022-11-28T21:50:21.673919Z",
     "shell.execute_reply": "2022-11-28T21:50:21.672349Z"
    },
    "papermill": {
     "duration": 0.048071,
     "end_time": "2022-11-28T21:50:21.678556",
     "exception": false,
     "start_time": "2022-11-28T21:50:21.630485",
     "status": "completed"
    },
    "tags": []
   },
   "outputs": [
    {
     "data": {
      "text/plain": [
       "(3000, 20)"
      ]
     },
     "execution_count": 3,
     "metadata": {},
     "output_type": "execute_result"
    }
   ],
   "source": [
    "### ADJUST EVENT TARGET ###\n",
    "\n",
    "n_bins = 20\n",
    "max_time = 700\n",
    "\n",
    "y_time[(y_time > max_time)] = max_time\n",
    "bin_edges = np.linspace(y_time.min(), y_time.max(), n_bins+1)\n",
    "bin_edges[0] = 0\n",
    "\n",
    "encoder = OneHotEncoder(\n",
    "    categories = [np.arange(n_bins+1)],\n",
    "    sparse = False, drop = None\n",
    ").fit(np.zeros((1, 1)))\n",
    "\n",
    "time = np.searchsorted(bin_edges[1:], y_time, side='right')\n",
    "y_time_ohe = encoder.transform(time.reshape(-1, 1))\n",
    "y_time_ohe = np.cumsum(y_time_ohe, 1)\n",
    "y_time_ohe = y_time_ohe[:,:-1]\n",
    "\n",
    "y_time_ohe.shape"
   ]
  },
  {
   "cell_type": "code",
   "execution_count": 4,
   "id": "a1ce90d6",
   "metadata": {
    "execution": {
     "iopub.execute_input": "2022-11-28T21:50:21.698299Z",
     "iopub.status.busy": "2022-11-28T21:50:21.697620Z",
     "iopub.status.idle": "2022-11-28T21:50:22.123491Z",
     "shell.execute_reply": "2022-11-28T21:50:22.121982Z"
    },
    "papermill": {
     "duration": 0.438988,
     "end_time": "2022-11-28T21:50:22.126026",
     "exception": false,
     "start_time": "2022-11-28T21:50:21.687038",
     "status": "completed"
    },
    "tags": []
   },
   "outputs": [
    {
     "data": {
      "image/png": "[encoded data removed]",
      "text/plain": [
       "<Figure size 1152x360 with 2 Axes>"
      ]
     },
     "metadata": {
      "needs_background": "light"
     },
     "output_type": "display_data"
    }
   ],
   "source": [
    "### PLOT EVENT TARGET AND LABEL PROPORTION ###\n",
    "\n",
    "plt.figure(figsize=(16,5))\n",
    "plt.subplot(1,2,1)\n",
    "plt.hist(y_time, bins=bin_edges, color='green')\n",
    "plt.xlabel('timeline'); plt.ylabel('frequency')\n",
    "plt.subplot(1,2,2)\n",
    "plt.plot(bin_edges[:-1], y_time_ohe.mean(axis=0), marker='o', color='green')\n",
    "plt.ylim([-0.03,1.03]); plt.axhline(0.5, linestyle='--', c='black')\n",
    "plt.xlabel('timeline'); plt.ylabel('label proportion')\n",
    "plt.show()"
   ]
  },
  {
   "cell_type": "code",
   "execution_count": 5,
   "id": "7468a429",
   "metadata": {
    "execution": {
     "iopub.execute_input": "2022-11-28T21:50:22.136212Z",
     "iopub.status.busy": "2022-11-28T21:50:22.135765Z",
     "iopub.status.idle": "2022-11-28T21:50:22.143781Z",
     "shell.execute_reply": "2022-11-28T21:50:22.142650Z"
    },
    "papermill": {
     "duration": 0.016309,
     "end_time": "2022-11-28T21:50:22.146378",
     "exception": false,
     "start_time": "2022-11-28T21:50:22.130069",
     "status": "completed"
    },
    "tags": []
   },
   "outputs": [],
   "source": [
    "### TRAIN-TEST SPLIT ###\n",
    "\n",
    "X_train, X_test, y_train, y_test = train_test_split(\n",
    "    X, y_time_ohe, test_size=0.25, shuffle=True, random_state=33\n",
    ")\n",
    "\n",
    "y_test = 1 - y_test"
   ]
  },
  {
   "cell_type": "code",
   "execution_count": 6,
   "id": "fa5983e2",
   "metadata": {
    "execution": {
     "iopub.execute_input": "2022-11-28T21:50:22.156558Z",
     "iopub.status.busy": "2022-11-28T21:50:22.156154Z",
     "iopub.status.idle": "2022-11-28T21:50:27.333026Z",
     "shell.execute_reply": "2022-11-28T21:50:27.331481Z"
    },
    "papermill": {
     "duration": 5.187413,
     "end_time": "2022-11-28T21:50:27.337930",
     "exception": false,
     "start_time": "2022-11-28T21:50:22.150517",
     "status": "completed"
    },
    "tags": []
   },
   "outputs": [
    {
     "data": {
      "text/plain": [
       "ClassifierChain(base_estimator=LogisticRegression(max_iter=2000,\n",
       "                                                  random_state=33),\n",
       "                cv=5)"
      ]
     },
     "execution_count": 6,
     "metadata": {},
     "output_type": "execute_result"
    }
   ],
   "source": [
    "### FIT CHAIN CLASSIFIER ###\n",
    "\n",
    "model = ClassifierChain(\n",
    "    LogisticRegression(random_state=33, max_iter=2000),\n",
    "    cv=5\n",
    ")\n",
    "model.fit(X_train, y_train)"
   ]
  },
  {
   "cell_type": "code",
   "execution_count": 7,
   "id": "d578d406",
   "metadata": {
    "execution": {
     "iopub.execute_input": "2022-11-28T21:50:27.361198Z",
     "iopub.status.busy": "2022-11-28T21:50:27.360273Z",
     "iopub.status.idle": "2022-11-28T21:50:28.783131Z",
     "shell.execute_reply": "2022-11-28T21:50:28.781648Z"
    },
    "papermill": {
     "duration": 1.437943,
     "end_time": "2022-11-28T21:50:28.786444",
     "exception": false,
     "start_time": "2022-11-28T21:50:27.348501",
     "status": "completed"
    },
    "tags": []
   },
   "outputs": [
    {
     "name": "stderr",
     "output_type": "stream",
     "text": [
      "[Parallel(n_jobs=-1)]: Using backend LokyBackend with 4 concurrent workers.\n",
      "[Parallel(n_jobs=-1)]: Done 116 tasks      | elapsed:    1.1s\n",
      "[Parallel(n_jobs=-1)]: Done 750 out of 750 | elapsed:    1.4s finished\n"
     ]
    },
    {
     "data": {
      "text/plain": [
       "(750, 20)"
      ]
     },
     "execution_count": 7,
     "metadata": {},
     "output_type": "execute_result"
    }
   ],
   "source": [
    "### POST-PROCESSING SURVIVAL CURVE PREDICTIONS ###\n",
    "\n",
    "isoreg = IsotonicRegression(y_min=0, y_max=1, increasing=True)\n",
    "x = np.arange(0, n_bins)\n",
    "\n",
    "proba = model.predict_proba(X_test)\n",
    "\n",
    "proba = Parallel(n_jobs=-1, verbose=1)(\n",
    "    delayed(isoreg.fit_transform)(x, p) \n",
    "    for p in proba\n",
    ")\n",
    "proba = 1 - np.asarray(proba)\n",
    "\n",
    "proba.shape"
   ]
  },
  {
   "cell_type": "code",
   "execution_count": 8,
   "id": "d7c6b121",
   "metadata": {
    "execution": {
     "iopub.execute_input": "2022-11-28T21:50:28.802414Z",
     "iopub.status.busy": "2022-11-28T21:50:28.801471Z",
     "iopub.status.idle": "2022-11-28T21:50:29.189359Z",
     "shell.execute_reply": "2022-11-28T21:50:29.188233Z"
    },
    "papermill": {
     "duration": 0.398686,
     "end_time": "2022-11-28T21:50:29.191778",
     "exception": false,
     "start_time": "2022-11-28T21:50:28.793092",
     "status": "completed"
    },
    "tags": []
   },
   "outputs": [
    {
     "data": {
      "image/png": "[encoded data removed]",
      "text/plain": [
       "<Figure size 1152x360 with 2 Axes>"
      ]
     },
     "metadata": {
      "needs_background": "light"
     },
     "output_type": "display_data"
    }
   ],
   "source": [
    "### PLOT PREDICTED SURVIVAL CURVES ###\n",
    "\n",
    "plt.figure(figsize=(16,5))\n",
    "plt.subplot(1,2,1)\n",
    "plt.fill_between(bin_edges[:-1], proba[5], color='green', alpha=0.3, label='pred')\n",
    "plt.plot(bin_edges[:-1], y_test[5], color='orange', label='true')\n",
    "plt.ylim([-0.03,1.03])\n",
    "plt.xlabel('timeline'); plt.ylabel('probability'); plt.legend()\n",
    "plt.subplot(1,2,2)\n",
    "plt.fill_between(bin_edges[:-1], proba[15], color='green', alpha=0.3, label='pred')\n",
    "plt.plot(bin_edges[:-1], y_test[15], color='orange', label='true')\n",
    "plt.ylim([-0.03,1.03])\n",
    "plt.xlabel('timeline'); plt.ylabel('probability'); plt.legend()\n",
    "plt.show()"
   ]
  },
  {
   "cell_type": "code",
   "execution_count": 9,
   "id": "30287fe0",
   "metadata": {
    "execution": {
     "iopub.execute_input": "2022-11-28T21:50:29.203454Z",
     "iopub.status.busy": "2022-11-28T21:50:29.203052Z",
     "iopub.status.idle": "2022-11-28T21:50:29.844802Z",
     "shell.execute_reply": "2022-11-28T21:50:29.843937Z"
    },
    "papermill": {
     "duration": 0.650191,
     "end_time": "2022-11-28T21:50:29.847026",
     "exception": false,
     "start_time": "2022-11-28T21:50:29.196835",
     "status": "completed"
    },
    "tags": []
   },
   "outputs": [
    {
     "name": "stderr",
     "output_type": "stream",
     "text": [
      "[Parallel(n_jobs=-1)]: Using backend LokyBackend with 4 concurrent workers.\n",
      "[Parallel(n_jobs=-1)]: Done 312 tasks      | elapsed:    0.1s\n",
      "[Parallel(n_jobs=-1)]: Done 750 out of 750 | elapsed:    0.3s finished\n",
      "[Parallel(n_jobs=-1)]: Using backend LokyBackend with 4 concurrent workers.\n",
      "[Parallel(n_jobs=-1)]: Done 312 tasks      | elapsed:    0.2s\n",
      "[Parallel(n_jobs=-1)]: Done 750 out of 750 | elapsed:    0.4s finished\n"
     ]
    }
   ],
   "source": [
    "### COMPUTE SCORE ON TEST DATA ###\n",
    "\n",
    "brier_scores = Parallel(n_jobs=-1, verbose=1)(\n",
    "    delayed(brier_score_loss)(true, pred, pos_label=1) \n",
    "    for true,pred in zip(y_test,proba)\n",
    ")\n",
    "\n",
    "logloss_scores = Parallel(n_jobs=-1, verbose=1)(\n",
    "    delayed(log_loss)(true, pred, labels=[0,1]) \n",
    "    for true,pred in zip(y_test,proba)\n",
    ")"
   ]
  },
  {
   "cell_type": "code",
   "execution_count": 10,
   "id": "9f973e75",
   "metadata": {
    "execution": {
     "iopub.execute_input": "2022-11-28T21:50:29.858290Z",
     "iopub.status.busy": "2022-11-28T21:50:29.857840Z",
     "iopub.status.idle": "2022-11-28T21:50:30.239217Z",
     "shell.execute_reply": "2022-11-28T21:50:30.238351Z"
    },
    "papermill": {
     "duration": 0.389449,
     "end_time": "2022-11-28T21:50:30.241401",
     "exception": false,
     "start_time": "2022-11-28T21:50:29.851952",
     "status": "completed"
    },
    "tags": []
   },
   "outputs": [
    {
     "data": {
      "image/png": "[encoded data removed]",
      "text/plain": [
       "<Figure size 1152x360 with 2 Axes>"
      ]
     },
     "metadata": {
      "needs_background": "light"
     },
     "output_type": "display_data"
    }
   ],
   "source": [
    "### PLOT TEST SCORE DISTRIBUTIONS ###\n",
    "\n",
    "plt.figure(figsize=(16,5))\n",
    "plt.subplot(1,2,1)\n",
    "plt.hist(brier_scores, bins=20, color='green')\n",
    "plt.xlabel('brier score'); plt.ylabel('frequency')\n",
    "plt.subplot(1,2,2)\n",
    "plt.hist(logloss_scores, bins=20, color='green')\n",
    "plt.xlabel('logloss score'); plt.ylabel('frequency')\n",
    "plt.show()"
   ]
  }
 ],
 "metadata": {
  "kernelspec": {
   "display_name": "Python 3",
   "language": "python",
   "name": "python3"
  },
  "language_info": {
   "codemirror_mode": {
    "name": "ipython",
    "version": 3
   },
   "file_extension": ".py",
   "mimetype": "text/x-python",
   "name": "python",
   "nbconvert_exporter": "python",
   "pygments_lexer": "ipython3",
   "version": "3.7.12"
  },
  "papermill": {
   "default_parameters": {},
   "duration": 21.921593,
   "end_time": "2022-11-28T21:50:32.870702",
   "environment_variables": {},
   "exception": null,
   "input_path": "__notebook__.ipynb",
   "output_path": "__notebook__.ipynb",
   "parameters": {},
   "start_time": "2022-11-28T21:50:10.949109",
   "version": "2.3.4"
  }
 },
 "nbformat": 4,
 "nbformat_minor": 5
}
